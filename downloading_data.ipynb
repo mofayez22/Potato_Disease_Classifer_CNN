{
  "nbformat": 4,
  "nbformat_minor": 0,
  "metadata": {
    "colab": {
      "provenance": []
    },
    "kernelspec": {
      "name": "python3",
      "display_name": "Python 3"
    },
    "language_info": {
      "name": "python"
    }
  },
  "cells": [
    {
      "cell_type": "markdown",
      "source": [
        "## Downloading data from Kaggle"
      ],
      "metadata": {
        "id": "m75D9PN3IXOM"
      }
    },
    {
      "cell_type": "markdown",
      "source": [
        "Setting up Colab with Kaggle an downloading The Dataset to Colab"
      ],
      "metadata": {
        "id": "Fds7LnovISBu"
      }
    },
    {
      "cell_type": "code",
      "execution_count": null,
      "metadata": {
        "id": "HyOMoIvdID-U"
      },
      "outputs": [],
      "source": [
        "#kaggle.json contains your kaggle API token.\n",
        "\n",
        "! mkdir ~/.kaggle\n",
        "! cp kaggle.json ~/.kaggle\n",
        "! chmod 600 ~/.kaggle/kaggle.json\n",
        "\n",
        "#download the dataset from kaggle to colab\n",
        "! kaggle datasets download rizwan123456789/potato-disease-leaf-datasetpld"
      ]
    },
    {
      "cell_type": "markdown",
      "source": [
        "Extracting the data images from the zip file"
      ],
      "metadata": {
        "id": "VIdmGDIJIL74"
      }
    },
    {
      "cell_type": "code",
      "source": [
        "from zipfile import ZipFile\n",
        "\n",
        "file = \"/content/potato-disease-leaf-datasetpld.zip\"\n",
        "\n",
        "# Open zip file in read mode\n",
        "with ZipFile(file, \"r\") as zfile:\n",
        "  #list all contents of the file\n",
        "  zfile.printdir()\n",
        "  print(\"Extracting...\")\n",
        "  zfile.extractall()\n",
        "  print(\"Done!\")"
      ],
      "metadata": {
        "id": "9XJRA9aWIKi5"
      },
      "execution_count": null,
      "outputs": []
    }
  ]
}